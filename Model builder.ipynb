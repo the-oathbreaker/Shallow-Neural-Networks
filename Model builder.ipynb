{
 "cells": [
  {
   "cell_type": "code",
   "execution_count": 1,
   "metadata": {
    "collapsed": true
   },
   "outputs": [],
   "source": [
    "import numpy as np"
   ]
  },
  {
   "cell_type": "code",
   "execution_count": 2,
   "metadata": {
    "collapsed": true
   },
   "outputs": [],
   "source": [
    "def sigmoid(x):\n",
    "    a=1/(1+np.exp*(-x))\n",
    "    return a"
   ]
  },
  {
   "cell_type": "code",
   "execution_count": 3,
   "metadata": {
    "collapsed": true
   },
   "outputs": [],
   "source": [
    "def relu(x):\n",
    "    return x*(x>0)"
   ]
  },
  {
   "cell_type": "code",
   "execution_count": 4,
   "metadata": {
    "collapsed": true
   },
   "outputs": [],
   "source": [
    "def relu_backward(x):\n",
    "    return 1*(x>0)"
   ]
  },
  {
   "cell_type": "code",
   "execution_count": 5,
   "metadata": {
    "collapsed": true
   },
   "outputs": [],
   "source": [
    "def sigmoid_backward(x):\n",
    "    return sigmoid(x)*(1-sigmoid(x))"
   ]
  },
  {
   "cell_type": "code",
   "execution_count": 4,
   "metadata": {
    "collapsed": true
   },
   "outputs": [],
   "source": [
    "def initialize_paramaters(layer_dims):\n",
    "    np.random.seed(1)\n",
    "    L=len(layer_dims)\n",
    "    paramaters={}\n",
    "    \n",
    "    for l in range(1,L):\n",
    "        paramaters[\"w\"+str(l)]=np.random.rand(layer_dims[l],layer_dims[l-1])\n",
    "        paramaters[\"b\"+str(l)]=np.zeros((layer_dims[l],1))\n",
    "    \n",
    "    return parameters"
   ]
  },
  {
   "cell_type": "code",
   "execution_count": 5,
   "metadata": {
    "collapsed": true
   },
   "outputs": [],
   "source": [
    "def linear_forward(a,w,b):\n",
    "    z=np.dot(w,a)+b\n",
    "    cache=(a,w,b)\n",
    "    \n",
    "    return z,cache"
   ]
  },
  {
   "cell_type": "code",
   "execution_count": 8,
   "metadata": {
    "collapsed": true
   },
   "outputs": [],
   "source": [
    "def linear_activation_forward(a_prev,w,b,activation):\n",
    "    \n",
    "    if activation==\"sigmoid\":\n",
    "        z,linear_cache=linear_forward(a_prev,w,b)\n",
    "        a,activation_cache=sigmoid(z)\n",
    "    \n",
    "    elif activation==\"relu\":\n",
    "        z,linear_cache=linear_forward(a_prev,w,b)\n",
    "        a,activation_cache=relu(z)\n",
    "    \n",
    "    cache=(linear_cache,activation_cache)\n",
    "    return a,cache\n",
    "    "
   ]
  },
  {
   "cell_type": "code",
   "execution_count": 18,
   "metadata": {
    "collapsed": true
   },
   "outputs": [],
   "source": [
    "def forward_model(x,paramaeters):\n",
    "    caches=[]\n",
    "    a=x\n",
    "    L=len(parameters)//2\n",
    "    \n",
    "    for l in range(1,L):\n",
    "        a_prev=a\n",
    "        a,cache=linear_activation_forward(a_prev,parameter[\"w\"+str(l)],parameters[\"b\"+str(l)],activation=\"relu\")\n",
    "        caches.append(cache)\n",
    "    \n",
    "    al,cache=linear_activation_forwrad(a,parameter[\"w\"+str(L)],parameters[\"b\"+str(L)],activation=\"sigmoid\")\n",
    "    caches.append(cache)\n",
    "    \n",
    "    return al,caches"
   ]
  },
  {
   "cell_type": "code",
   "execution_count": 19,
   "metadata": {
    "collapsed": true
   },
   "outputs": [],
   "source": [
    "def linear_backward(dz,cache):\n",
    "    a_prev,w,b=cache\n",
    "    m=a_prev.shape[1]\n",
    "    \n",
    "    dw=np.dot(dz,cache[0].T)/m\n",
    "    db=np.sum(dz,axis=1,keepdims=True)/m\n",
    "    da_prev=np.dot(cache[1].T,dz)\n",
    "    \n",
    "    return da_prev,dw,db"
   ]
  },
  {
   "cell_type": "code",
   "execution_count": 39,
   "metadata": {
    "collapsed": true
   },
   "outputs": [],
   "source": [
    "def linear_activation_backward(da,cache,activation):\n",
    "    linear_cache,activation_cache=cache\n",
    "    \n",
    "    if activation==\"relu\":\n",
    "        dz = relu_backward(da, activation_cache)\n",
    "    elif activation == \"sigmoid\":\n",
    "        dz = sigmoid_backward(da, activation_cache)\n",
    "        \n",
    "    dz_prev, dw, db = linear_backward(dz, linear_cache)\n",
    "    \n",
    "    return da_prev,dw,db"
   ]
  },
  {
   "cell_type": "code",
   "execution_count": null,
   "metadata": {
    "collapsed": true
   },
   "outputs": [],
   "source": []
  }
 ],
 "metadata": {
  "kernelspec": {
   "display_name": "Python 3",
   "language": "python",
   "name": "python3"
  },
  "language_info": {
   "codemirror_mode": {
    "name": "ipython",
    "version": 3
   },
   "file_extension": ".py",
   "mimetype": "text/x-python",
   "name": "python",
   "nbconvert_exporter": "python",
   "pygments_lexer": "ipython3",
   "version": "3.6.3"
  }
 },
 "nbformat": 4,
 "nbformat_minor": 2
}
